{
 "cells": [
  {
   "cell_type": "markdown",
   "id": "a763f465-9cd2-476f-bae6-730f55fd5052",
   "metadata": {},
   "source": [
    "<h1>Data Science Tools and Ecosystem</h1>"
   ]
  },
  {
   "cell_type": "markdown",
   "id": "68028be6-a363-4471-be9a-5b9c6c7fc1ca",
   "metadata": {},
   "source": [
    "<h2>Author</h2>\n",
    "<p>Jeff B.</p>"
   ]
  },
  {
   "cell_type": "markdown",
   "id": "129cba65-50fa-499c-86e7-219d5b69250a",
   "metadata": {},
   "source": [
    "<p>Different Data Science Tools and the Data Science Ecosystem are summarized in this notebook.</p>"
   ]
  },
  {
   "cell_type": "markdown",
   "id": "27448181-1333-4967-bc9f-d44940f5fc08",
   "metadata": {},
   "source": [
    "<strong>Objectives:</strong>\n",
    "\n",
    "<ul>\n",
    "    <li>List popular languages for Data Science</li>\n",
    "    <li>List popular libraries for Data Science</li>\n",
    "    <li>List open-source Data Science tools in a table</li>\n",
    "    <li>Perform an arithmetic expression that multiples and then adds</li>\n",
    "</ul>"
   ]
  },
  {
   "cell_type": "markdown",
   "id": "f5857800-029c-4922-bbbe-3114e7d3fb91",
   "metadata": {},
   "source": [
    "<p>Some of the most popular coding languages Data Scientists use include the following:</p>\n",
    "\n",
    "<ol>\n",
    "    <li>Python</li>\n",
    "    <li>R</li>\n",
    "    <li>SQL</li>\n",
    "    <li>Scala</li>\n",
    "</ol>"
   ]
  },
  {
   "cell_type": "markdown",
   "id": "990954e1-799b-468d-8b37-2c031d801df5",
   "metadata": {},
   "source": [
    "<p>Some of the most popular libraries Data Scientists use include the following:</p>\n",
    "\n",
    "<ol>\n",
    "    <li>NumPy</li>\n",
    "    <li>Pandas</li>\n",
    "    <li>SciPy</li>\n",
    "    <li>Matplotlib</li>\n",
    "</ol>"
   ]
  },
  {
   "cell_type": "markdown",
   "id": "936073c8-f155-4fde-a2c8-1f6e67d4911d",
   "metadata": {},
   "source": [
    "|Data Science Tools|\n",
    "|----|\n",
    "|MySQL|\n",
    "|PostgreSQL|\n",
    "|Hadoop|"
   ]
  },
  {
   "cell_type": "markdown",
   "id": "8d7f0085-14cd-4f32-9791-fb37c3c4e8af",
   "metadata": {},
   "source": [
    "<h3>The examples below are a few examples of evaluating arithmetic expressions in Python</h3>"
   ]
  },
  {
   "cell_type": "markdown",
   "id": "5d2bf801-593e-4c0f-9be8-280e60fd8d8a",
   "metadata": {},
   "source": [
    "#This is an arithmetic expression that multiplies and then adds integers"
   ]
  },
  {
   "cell_type": "code",
   "execution_count": 6,
   "id": "b9cf95b7-587d-4ec5-8d8c-d467e1b4eabf",
   "metadata": {},
   "outputs": [
    {
     "name": "stdout",
     "output_type": "stream",
     "text": [
      "17\n"
     ]
    }
   ],
   "source": [
    "print((3*4) + 5)"
   ]
  },
  {
   "cell_type": "markdown",
   "id": "68d4b9b9-2e6d-486c-8f1c-59d847688944",
   "metadata": {},
   "source": [
    "#This will convert 200 minutes to hours by dividing by 60"
   ]
  },
  {
   "cell_type": "code",
   "execution_count": 8,
   "id": "684feabb-1399-4428-8b19-19e14f565ab9",
   "metadata": {},
   "outputs": [
    {
     "name": "stdout",
     "output_type": "stream",
     "text": [
      "3.3333333333333335\n"
     ]
    }
   ],
   "source": [
    "print(200 / 60)"
   ]
  },
  {
   "cell_type": "code",
   "execution_count": null,
   "id": "4ce2ea74-52f0-4c89-a265-2258608f49da",
   "metadata": {},
   "outputs": [],
   "source": []
  }
 ],
 "metadata": {
  "kernelspec": {
   "display_name": "Python",
   "language": "python",
   "name": "conda-env-python-py"
  },
  "language_info": {
   "codemirror_mode": {
    "name": "ipython",
    "version": 3
   },
   "file_extension": ".py",
   "mimetype": "text/x-python",
   "name": "python",
   "nbconvert_exporter": "python",
   "pygments_lexer": "ipython3",
   "version": "3.7.12"
  }
 },
 "nbformat": 4,
 "nbformat_minor": 5
}
